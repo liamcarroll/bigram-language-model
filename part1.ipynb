{
 "cells": [
  {
   "cell_type": "markdown",
   "metadata": {},
   "source": [
    "# Setup"
   ]
  },
  {
   "cell_type": "code",
   "execution_count": 1,
   "metadata": {},
   "outputs": [],
   "source": [
    "import pandas as pd\n",
    "import numpy as np\n",
    "import seaborn as sns"
   ]
  },
  {
   "cell_type": "markdown",
   "metadata": {},
   "source": [
    "# Part One Instructions\n",
    "\n",
    "Implement an **unsmoothed bigram language model** in Python. Train your model on the following toy corpus:\n",
    "\n",
    "\\<s> a b \\</s>  \n",
    "\\<s> b b \\</s>  \n",
    "\\<s> b a \\</s>  \n",
    "\\<s> a a \\</s>  \n",
    "\n",
    "Calculate and print out the probability of each of the following strings:\n",
    "\n",
    "\\<s> b \\</s>  \n",
    "\\<s> a \\</s>  \n",
    "\\<s> a b \\</s>  \n",
    "\\<s> a a \\</s>  \n",
    "\\<s> a b a \\</s>  "
   ]
  },
  {
   "cell_type": "markdown",
   "metadata": {},
   "source": [
    "# Part One"
   ]
  },
  {
   "cell_type": "markdown",
   "metadata": {},
   "source": [
    "The first step for this part is to create a class in Python to represent the unsmoothed bigram LM. I made a function to calcuate the probability of a word sequence in both normal and log space."
   ]
  },
  {
   "cell_type": "code",
   "execution_count": 4,
   "metadata": {},
   "outputs": [],
   "source": [
    "class UnsmoothedBigramLM:\n",
    "    \"\"\"\n",
    "    Class to represent an unsmoothed bigram LM.\n",
    "    \"\"\"\n",
    "\n",
    "    def __init__(self, corpus=[]):\n",
    "        \"\"\"\n",
    "        Corpus object is a list of the sentences in the corpus as strings.\n",
    "        Sentence start and end markers appear in each string.\n",
    "        The unigrams and bigrams are extracted on instantiation.\n",
    "        \"\"\"\n",
    "        self.corpus = corpus\n",
    "        self.unigram_counts = self.count_unigrams(corpus)\n",
    "        self.bigram_counts = self.count_bigrams(corpus)\n",
    "\n",
    "    def count_unigrams(self, corpus):\n",
    "        \"\"\"\n",
    "        Creates a dict with every unigram in the corpus and \n",
    "        a count of how many times it appears in the corpus.\n",
    "        \"\"\"\n",
    "        counts = {}\n",
    "        for s in corpus:\n",
    "            # Tokenise sentence\n",
    "            toks = s.split()\n",
    "            for tok in toks:\n",
    "                # Normalise case\n",
    "                tok = tok.casefold()\n",
    "                if tok in counts:\n",
    "                    counts[tok] += 1\n",
    "                else:\n",
    "                    counts[tok] = 1\n",
    "        # Return dict with unigram counts\n",
    "        return counts\n",
    "\n",
    "    def count_bigrams(self, corpus):\n",
    "        \"\"\"\n",
    "        Creates a dict with every bigram in the corpus and \n",
    "        a count of how many times it appears in the corpus.\n",
    "        \"\"\"\n",
    "        counts = {}\n",
    "        for s in corpus:\n",
    "            # Tokenise sentence\n",
    "            toks = s.split()\n",
    "            for tok1, tok2 in zip(toks, toks[1:]):\n",
    "                # Normalise case\n",
    "                tok1 = tok1.casefold()\n",
    "                tok2 = tok2.casefold()\n",
    "                bigram = (tok1, tok2)\n",
    "                if bigram in counts:\n",
    "                    counts[bigram] += 1\n",
    "                else:\n",
    "                    counts[bigram] = 1\n",
    "        #Return dict with bigram counts\n",
    "        return counts\n",
    "        \n",
    "                 \n",
    "    def p_unigram(self, word):\n",
    "        \"\"\"\n",
    "        Returns the probability of a unigram w.\n",
    "        \"\"\"\n",
    "        # Strip whitespace and normalise case\n",
    "        w = word.strip().casefold()\n",
    "\n",
    "        # Make sure w is only one word\n",
    "        if len(w.split()) > 1:\n",
    "            raise ValueError\n",
    "\n",
    "        #  p(w) = return count(\"w\") / count(unigrams)\n",
    "        return self.unigram_counts[w] / sum(self.unigram_counts.values())\n",
    "    \n",
    "    def p_bigram(self, word, prev_word):\n",
    "        \"\"\"\n",
    "        Returns the probability of a bigram - \"prev_word word\".\n",
    "        \"\"\"\n",
    "        # Strip whitespace and normalise case\n",
    "        w1 = prev_word.strip().casefold()\n",
    "        w2 = word.strip().casefold()\n",
    "\n",
    "        # Make sure both are one word\n",
    "        if (len(w1.split()) > 1) or (len(w2.split()) > 1):\n",
    "            raise ValueError\n",
    "        \n",
    "        # p(w2 | w1) = count(\"w1 w2\") / count(\"w1\")\n",
    "        try:\n",
    "            bigram = (w1, w2)\n",
    "            return self.bigram_counts[bigram] / self.unigram_counts[w1]\n",
    "        except KeyError:\n",
    "            return 0\n",
    "\n",
    "    def p_word_seq(self, s):\n",
    "        \"\"\"\n",
    "        Returns the probability of a word sequence s.\n",
    "        \"\"\"\n",
    "        # Strip whitespace, normalise case and tokenise\n",
    "        toks = s.strip().casefold().split()\n",
    "        \n",
    "        probs = []\n",
    "        probs.append(self.p_unigram(toks[0]))\n",
    "        for prev, curr in zip(toks, toks[1:]):\n",
    "            probs.append(self.p_bigram(curr, prev))\n",
    "        \n",
    "        #Return product of probs\n",
    "        return np.prod(probs), self.p_log_space(probs)\n",
    "    \n",
    "    def p_log_space(self, probs):\n",
    "        \"\"\"\n",
    "        Returns the log probability of list of word probabilities.\n",
    "        \"\"\"\n",
    "        total = 0\n",
    "        for p in probs:\n",
    "            total += np.log(p)\n",
    "        return total"
   ]
  },
  {
   "cell_type": "markdown",
   "metadata": {},
   "source": [
    "The next step is to instantiate our model using the toy corpus for training."
   ]
  },
  {
   "cell_type": "code",
   "execution_count": 5,
   "metadata": {},
   "outputs": [],
   "source": [
    "# Training data\n",
    "toy_corpus = [\"<s> a b </s>\",\n",
    "              \"<s> b b </s>\",\n",
    "              \"<s> b a </s>\",\n",
    "              \"<s> a a </s>\"]"
   ]
  },
  {
   "cell_type": "code",
   "execution_count": 6,
   "metadata": {},
   "outputs": [],
   "source": [
    "LM = UnsmoothedBigramLM(toy_corpus)"
   ]
  },
  {
   "cell_type": "markdown",
   "metadata": {},
   "source": [
    "Checking if unigram and bigrams counts were carried out correctly."
   ]
  },
  {
   "cell_type": "code",
   "execution_count": 7,
   "metadata": {},
   "outputs": [
    {
     "data": {
      "text/plain": [
       "{'<s>': 4, 'a': 4, 'b': 4, '</s>': 4}"
      ]
     },
     "execution_count": 7,
     "metadata": {},
     "output_type": "execute_result"
    }
   ],
   "source": [
    "LM.unigram_counts"
   ]
  },
  {
   "cell_type": "code",
   "execution_count": 8,
   "metadata": {},
   "outputs": [
    {
     "data": {
      "text/plain": [
       "{('<s>', 'a'): 2,\n",
       " ('a', 'b'): 1,\n",
       " ('b', '</s>'): 2,\n",
       " ('<s>', 'b'): 2,\n",
       " ('b', 'b'): 1,\n",
       " ('b', 'a'): 1,\n",
       " ('a', '</s>'): 2,\n",
       " ('a', 'a'): 1}"
      ]
     },
     "execution_count": 8,
     "metadata": {},
     "output_type": "execute_result"
    }
   ],
   "source": [
    "LM.bigram_counts"
   ]
  },
  {
   "cell_type": "markdown",
   "metadata": {},
   "source": [
    "## Calculating Probabilities"
   ]
  },
  {
   "cell_type": "markdown",
   "metadata": {},
   "source": [
    "Next, we calculate and print out the probability of each of the following strings:  \n",
    "\n",
    "\\<s> b \\</s>  \n",
    "\\<s> a \\</s>  \n",
    "\\<s> a b \\</s>  \n",
    "\\<s> a a \\</s>  \n",
    "\\<s> a b a \\</s>  "
   ]
  },
  {
   "cell_type": "code",
   "execution_count": 9,
   "metadata": {},
   "outputs": [],
   "source": [
    "# Initialise list to store probabilities\n",
    "probs = []"
   ]
  },
  {
   "cell_type": "code",
   "execution_count": 10,
   "metadata": {},
   "outputs": [
    {
     "name": "stdout",
     "output_type": "stream",
     "text": [
      "String:  <s> b </s>\n",
      "Probability:  0.0625\n",
      "Log Probability:  -2.772588722239781\n"
     ]
    }
   ],
   "source": [
    "s1 = \"<s> b </s>\"\n",
    "\n",
    "print(\"String: \", s1)\n",
    "prob, log_prob = LM.p_word_seq(s1)\n",
    "print(\"Probability: \", prob)\n",
    "print(\"Log Probability: \", log_prob)\n",
    "\n",
    "probs.append([\"s1\", s1, prob, log_prob])"
   ]
  },
  {
   "cell_type": "code",
   "execution_count": 11,
   "metadata": {},
   "outputs": [
    {
     "name": "stdout",
     "output_type": "stream",
     "text": [
      "String:  <s> a </s>\n",
      "Probability:  0.0625\n",
      "Log Probability:  -2.772588722239781\n"
     ]
    }
   ],
   "source": [
    "s2 = \"<s> a </s>\"\n",
    "\n",
    "print(\"String: \", s2)\n",
    "prob, log_prob = LM.p_word_seq(s2)\n",
    "print(\"Probability: \", prob)\n",
    "print(\"Log Probability: \", log_prob)\n",
    "\n",
    "probs.append([\"s2\", s2, prob, log_prob])"
   ]
  },
  {
   "cell_type": "code",
   "execution_count": 12,
   "metadata": {},
   "outputs": [
    {
     "name": "stdout",
     "output_type": "stream",
     "text": [
      "String:  <s> a b </s>\n",
      "Probability:  0.015625\n",
      "Log Probability:  -4.1588830833596715\n"
     ]
    }
   ],
   "source": [
    "s3 = \"<s> a b </s>\"\n",
    "print(\"String: \", s3)\n",
    "prob, log_prob = LM.p_word_seq(s3)\n",
    "print(\"Probability: \", prob)\n",
    "print(\"Log Probability: \", log_prob)\n",
    "\n",
    "probs.append([\"s3\", s3, prob, log_prob])"
   ]
  },
  {
   "cell_type": "code",
   "execution_count": 13,
   "metadata": {},
   "outputs": [
    {
     "name": "stdout",
     "output_type": "stream",
     "text": [
      "String:  <s> a a </s>\n",
      "Probability:  0.015625\n",
      "Log Probability:  -4.1588830833596715\n"
     ]
    }
   ],
   "source": [
    "s4 = \"<s> a a </s>\"\n",
    "print(\"String: \", s4)\n",
    "prob, log_prob = LM.p_word_seq(s4)\n",
    "print(\"Probability: \", prob)\n",
    "print(\"Log Probability: \", log_prob)\n",
    "\n",
    "probs.append([\"s4\", s4, prob, log_prob])"
   ]
  },
  {
   "cell_type": "code",
   "execution_count": 14,
   "metadata": {},
   "outputs": [
    {
     "name": "stdout",
     "output_type": "stream",
     "text": [
      "String:  <s> a b a </s>\n",
      "Probability:  0.00390625\n",
      "Log Probability:  -5.545177444479562\n"
     ]
    }
   ],
   "source": [
    "s5 = \"<s> a b a </s>\"\n",
    "print(\"String: \", s5)\n",
    "prob, log_prob = LM.p_word_seq(s5)\n",
    "print(\"Probability: \", prob)\n",
    "print(\"Log Probability: \", log_prob)\n",
    "\n",
    "probs.append([\"s5\", s5, prob, log_prob])"
   ]
  },
  {
   "cell_type": "markdown",
   "metadata": {},
   "source": [
    "## Plot of Probabilities  \n",
    "\n",
    "Next, we can plot the probabilities on a bar chart to see how the sentences compare to each other in terms of how probable they are."
   ]
  },
  {
   "cell_type": "code",
   "execution_count": 15,
   "metadata": {},
   "outputs": [],
   "source": [
    "df_probs = pd.DataFrame.from_records(probs, columns=[\"sentence\", \"text\", \"prob\", \"log_prob\"])"
   ]
  },
  {
   "cell_type": "code",
   "execution_count": 16,
   "metadata": {},
   "outputs": [
    {
     "data": {
      "text/html": [
       "<div>\n",
       "<style scoped>\n",
       "    .dataframe tbody tr th:only-of-type {\n",
       "        vertical-align: middle;\n",
       "    }\n",
       "\n",
       "    .dataframe tbody tr th {\n",
       "        vertical-align: top;\n",
       "    }\n",
       "\n",
       "    .dataframe thead th {\n",
       "        text-align: right;\n",
       "    }\n",
       "</style>\n",
       "<table border=\"1\" class=\"dataframe\">\n",
       "  <thead>\n",
       "    <tr style=\"text-align: right;\">\n",
       "      <th></th>\n",
       "      <th>sentence</th>\n",
       "      <th>text</th>\n",
       "      <th>prob</th>\n",
       "      <th>log_prob</th>\n",
       "    </tr>\n",
       "  </thead>\n",
       "  <tbody>\n",
       "    <tr>\n",
       "      <th>0</th>\n",
       "      <td>s1</td>\n",
       "      <td>&lt;s&gt; b &lt;/s&gt;</td>\n",
       "      <td>0.062500</td>\n",
       "      <td>-2.772589</td>\n",
       "    </tr>\n",
       "    <tr>\n",
       "      <th>1</th>\n",
       "      <td>s2</td>\n",
       "      <td>&lt;s&gt; a &lt;/s&gt;</td>\n",
       "      <td>0.062500</td>\n",
       "      <td>-2.772589</td>\n",
       "    </tr>\n",
       "    <tr>\n",
       "      <th>2</th>\n",
       "      <td>s3</td>\n",
       "      <td>&lt;s&gt; a b &lt;/s&gt;</td>\n",
       "      <td>0.015625</td>\n",
       "      <td>-4.158883</td>\n",
       "    </tr>\n",
       "    <tr>\n",
       "      <th>3</th>\n",
       "      <td>s4</td>\n",
       "      <td>&lt;s&gt; a a &lt;/s&gt;</td>\n",
       "      <td>0.015625</td>\n",
       "      <td>-4.158883</td>\n",
       "    </tr>\n",
       "    <tr>\n",
       "      <th>4</th>\n",
       "      <td>s5</td>\n",
       "      <td>&lt;s&gt; a b a &lt;/s&gt;</td>\n",
       "      <td>0.003906</td>\n",
       "      <td>-5.545177</td>\n",
       "    </tr>\n",
       "  </tbody>\n",
       "</table>\n",
       "</div>"
      ],
      "text/plain": [
       "  sentence            text      prob  log_prob\n",
       "0       s1      <s> b </s>  0.062500 -2.772589\n",
       "1       s2      <s> a </s>  0.062500 -2.772589\n",
       "2       s3    <s> a b </s>  0.015625 -4.158883\n",
       "3       s4    <s> a a </s>  0.015625 -4.158883\n",
       "4       s5  <s> a b a </s>  0.003906 -5.545177"
      ]
     },
     "execution_count": 16,
     "metadata": {},
     "output_type": "execute_result"
    }
   ],
   "source": [
    "df_probs"
   ]
  },
  {
   "cell_type": "markdown",
   "metadata": {},
   "source": [
    "Bar chart for normal probabilities.."
   ]
  },
  {
   "cell_type": "code",
   "execution_count": 17,
   "metadata": {},
   "outputs": [
    {
     "data": {
      "text/plain": [
       "<AxesSubplot:xlabel='sentence', ylabel='prob'>"
      ]
     },
     "execution_count": 17,
     "metadata": {},
     "output_type": "execute_result"
    },
    {
     "data": {
      "image/png": "[encoded data removed]",
      "text/plain": [
       "<Figure size 432x288 with 1 Axes>"
      ]
     },
     "metadata": {
      "needs_background": "light"
     },
     "output_type": "display_data"
    }
   ],
   "source": [
    "sns.barplot(x=\"sentence\", y=\"prob\", data=df_probs)"
   ]
  },
  {
   "cell_type": "markdown",
   "metadata": {},
   "source": [
    "Bar chart for probabilities in log space..."
   ]
  },
  {
   "cell_type": "code",
   "execution_count": 18,
   "metadata": {},
   "outputs": [
    {
     "data": {
      "text/plain": [
       "<AxesSubplot:xlabel='sentence', ylabel='log_prob'>"
      ]
     },
     "execution_count": 18,
     "metadata": {},
     "output_type": "execute_result"
    },
    {
     "data": {
      "image/png": "[encoded data removed]",
      "text/plain": [
       "<Figure size 432x288 with 1 Axes>"
      ]
     },
     "metadata": {
      "needs_background": "light"
     },
     "output_type": "display_data"
    }
   ],
   "source": [
    "sns.barplot(x=\"sentence\", y=\"log_prob\", data=df_probs)"
   ]
  },
  {
   "cell_type": "code",
   "execution_count": null,
   "metadata": {},
   "outputs": [],
   "source": []
  }
 ],
 "metadata": {
  "kernelspec": {
   "display_name": "Python 3",
   "language": "python",
   "name": "python3"
  },
  "language_info": {
   "codemirror_mode": {
    "name": "ipython",
    "version": 3
   },
   "file_extension": ".py",
   "mimetype": "text/x-python",
   "name": "python",
   "nbconvert_exporter": "python",
   "pygments_lexer": "ipython3",
   "version": "3.8.5"
  }
 },
 "nbformat": 4,
 "nbformat_minor": 4
}
